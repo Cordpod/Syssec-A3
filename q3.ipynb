{
 "cells": [
  {
   "cell_type": "code",
   "execution_count": 4,
   "metadata": {},
   "outputs": [],
   "source": [
    "import requests\n",
    "import base64\n",
    "import json\n",
    "import nacl.secret\n",
    "import nacl.utils\n",
    "import nacl.pwhash"
   ]
  },
  {
   "cell_type": "markdown",
   "metadata": {},
   "source": [
    "# q3p1"
   ]
  },
  {
   "cell_type": "code",
   "execution_count": 10,
   "metadata": {},
   "outputs": [
    {
     "name": "stdout",
     "output_type": "stream",
     "text": [
      "b'x/sOpLn5ShW2WNZV0AwlmqhI8Iw7qKUCIQVHGfjoJZ9vtSOZaYWJW4vxxiweBM2+UbwAcM7GA3kB'\n",
      "200\n"
     ]
    }
   ],
   "source": [
    "url =  \"https://hash-browns.cs.uwaterloo.ca/api/psp/send\"\n",
    "\n",
    "myheaders = {\n",
    "    'Accept': 'application/json',\n",
    "    'Content-Type': 'application/json'\n",
    "}\n",
    "\n",
    "mymsg = b'Hello Gooser q3p1'\n",
    "givensalt = bytes.fromhex('9f3c8a70f130d5cb0343e8e8f41486d4')\n",
    "givenpass = b'other criteria'\n",
    "oplimit = 2\n",
    "memlimit = 67108864\n",
    "\n",
    "pwhash = nacl.pwhash.argon2id.kdf\n",
    "byte_key = pwhash(size = nacl.secret.SecretBox.KEY_SIZE, password = givenpass, salt = givensalt, opslimit = oplimit, memlimit = memlimit)\n",
    "\n",
    "box = nacl.secret.SecretBox(byte_key)\n",
    "encoded = base64.b64encode(box.encrypt(mymsg))\n",
    "\n",
    "print (encoded)\n",
    "encoded = encoded.decode()\n",
    "# print (encoded)\n",
    "\n",
    "\n",
    "\n",
    "myobj = {\"api_token\": \"cb0fc431d5b7e268e4a81538dd653b83ad0702876a367b628ba6ec7ceb6800d0\",\n",
    "         \"recipient\": \"Gooser\", \n",
    "         \"msg\": encoded\n",
    "         }\n",
    "\n",
    "\n",
    "r = requests.post(url, json = myobj, headers=myheaders)\n",
    "r.status_code\n",
    "print (r.status_code)"
   ]
  },
  {
   "cell_type": "markdown",
   "metadata": {},
   "source": [
    "# q3p2"
   ]
  },
  {
   "cell_type": "code",
   "execution_count": 11,
   "metadata": {},
   "outputs": [
    {
     "name": "stdout",
     "output_type": "stream",
     "text": [
      "200 [{\"msg_id\":44282692,\"sender\":\"Gooser\",\"msg\":\"KZC9oh+ZSEbIHfT3TOjN4CRTacdhiolXYiulq1deHENfRJhQDZHM6LL7\\/yl23YwSOBSk\"}]\n",
      "b'alleged fly'\n"
     ]
    }
   ],
   "source": [
    "url2 =  \"https://hash-browns.cs.uwaterloo.ca/api/psp/inbox\"\n",
    "\n",
    "myobj2 = {\"api_token\": \"cb0fc431d5b7e268e4a81538dd653b83ad0702876a367b628ba6ec7ceb6800d0\",\n",
    "         }\n",
    "\n",
    "r = requests.post(url2, json = myobj2, headers=myheaders)\n",
    "r.status_code\n",
    "\n",
    "data = json.loads(r.text)\n",
    "msg = data[0]['msg']\n",
    "decodedmsg = base64.b64decode(msg)\n",
    "plaintext = box.decrypt(decodedmsg)\n",
    "\n",
    "\n",
    "print (r.status_code, r.text)\n",
    "print(plaintext)"
   ]
  }
 ],
 "metadata": {
  "kernelspec": {
   "display_name": "Python 3",
   "language": "python",
   "name": "python3"
  },
  "language_info": {
   "codemirror_mode": {
    "name": "ipython",
    "version": 3
   },
   "file_extension": ".py",
   "mimetype": "text/x-python",
   "name": "python",
   "nbconvert_exporter": "python",
   "pygments_lexer": "ipython3",
   "version": "3.11.6"
  }
 },
 "nbformat": 4,
 "nbformat_minor": 2
}
