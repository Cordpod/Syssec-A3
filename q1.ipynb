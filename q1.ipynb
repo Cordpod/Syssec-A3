{
 "cells": [
  {
   "cell_type": "code",
   "execution_count": 19,
   "metadata": {},
   "outputs": [],
   "source": [
    "import requests\n",
    "import base64\n",
    "import json"
   ]
  },
  {
   "cell_type": "markdown",
   "metadata": {},
   "source": [
    "# q1p1"
   ]
  },
  {
   "cell_type": "code",
   "execution_count": 20,
   "metadata": {},
   "outputs": [
    {
     "name": "stdout",
     "output_type": "stream",
     "text": [
      "200\n"
     ]
    }
   ],
   "source": [
    "url =  \"https://hash-browns.cs.uwaterloo.ca/api/plain/send\"\n",
    "\n",
    "myobj = {\"api_token\": \"cb0fc431d5b7e268e4a81538dd653b83ad0702876a367b628ba6ec7ceb6800d0\",\n",
    "         \"recipient\": \"Gooser\", \n",
    "         \"msg\": \"SGVsbG8gR29vc2Vy\"\n",
    "         }\n",
    "\n",
    "#i used an online encoder to get the msg\n",
    "#msg is Hello Gooser\n",
    "\n",
    "myheaders = {\n",
    "    'Accept': 'application/json',\n",
    "    'Content-Type': 'application/json'\n",
    "}\n",
    "\n",
    "r = requests.post(url, json = myobj, headers=myheaders)\n",
    "r.status_code\n",
    "print (r.status_code)\n"
   ]
  },
  {
   "cell_type": "markdown",
   "metadata": {},
   "source": [
    "# q1p2"
   ]
  },
  {
   "cell_type": "code",
   "execution_count": 13,
   "metadata": {},
   "outputs": [
    {
     "name": "stdout",
     "output_type": "stream",
     "text": [
      "200 [{\"msg_id\":44282690,\"sender\":\"Gooser\",\"msg\":\"dW5leHBlY3RlZCBsdWNr\"}]\n",
      "b'unexpected luck'\n"
     ]
    }
   ],
   "source": [
    "url2 =  \"https://hash-browns.cs.uwaterloo.ca/api/plain/inbox\"\n",
    "\n",
    "myobj2 = {\"api_token\": \"cb0fc431d5b7e268e4a81538dd653b83ad0702876a367b628ba6ec7ceb6800d0\",\n",
    "         }\n",
    "\n",
    "r = requests.post(url2, json = myobj2, headers=myheaders)\n",
    "r.status_code\n",
    "\n",
    "data = json.loads(r.text)\n",
    "msg = data[0]['msg']\n",
    "decodedmsg = base64.b64decode(msg)\n",
    "\n",
    "print (r.status_code, r.text)\n",
    "print(decodedmsg)"
   ]
  }
 ],
 "metadata": {
  "kernelspec": {
   "display_name": "Python 3",
   "language": "python",
   "name": "python3"
  },
  "language_info": {
   "codemirror_mode": {
    "name": "ipython",
    "version": 3
   },
   "file_extension": ".py",
   "mimetype": "text/x-python",
   "name": "python",
   "nbconvert_exporter": "python",
   "pygments_lexer": "ipython3",
   "version": "3.11.6"
  }
 },
 "nbformat": 4,
 "nbformat_minor": 2
}
