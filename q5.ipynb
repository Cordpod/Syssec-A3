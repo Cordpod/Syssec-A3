{
 "cells": [
  {
   "cell_type": "code",
   "execution_count": 31,
   "metadata": {},
   "outputs": [],
   "source": [
    "import requests\n",
    "import base64\n",
    "import json\n",
    "import nacl.secret\n",
    "import nacl.utils\n",
    "import nacl.pwhash\n",
    "from nacl.signing import SigningKey\n",
    "from nacl.encoding import Base64Encoder\n",
    "import nacl.encoding\n",
    "import nacl.hash\n",
    "from nacl.public import PrivateKey, Box\n"
   ]
  },
  {
   "cell_type": "markdown",
   "metadata": {},
   "source": [
    "# q5p1"
   ]
  },
  {
   "cell_type": "code",
   "execution_count": 30,
   "metadata": {},
   "outputs": [
    {
     "name": "stdout",
     "output_type": "stream",
     "text": [
      "200 {\"user\":\"Gooser\",\"pubkey\":\"l19VCKk31NjSkHPTrFp3FPEA4GEK6ooLYl6Wwobc4Gg=\"}\n",
      "l19VCKk31NjSkHPTrFp3FPEA4GEK6ooLYl6Wwobc4Gg=\n",
      "hash of goosers public string b'ca48e2d7b7841b59a75730ec97e77f808d7a5ea73b6d39f6409f18841170290f'\n"
     ]
    }
   ],
   "source": [
    "myheaders = {\n",
    "    'Accept': 'application/json',\n",
    "    'Content-Type': 'application/json'\n",
    "}\n",
    "\n",
    "url2 =  \"https://hash-browns.cs.uwaterloo.ca/api/pke/get-key\"\n",
    "\n",
    "myobj2 = {\"api_token\": \"cb0fc431d5b7e268e4a81538dd653b83ad0702876a367b628ba6ec7ceb6800d0\",\n",
    "        \"user\": \"Gooser\"\n",
    "         }\n",
    "\n",
    "r = requests.post(url2, json = myobj2, headers=myheaders)\n",
    "r.status_code\n",
    "\n",
    "data = json.loads(r.text)\n",
    "# print (data)\n",
    "pubkey = data['pubkey']\n",
    "# decodedmsg = base64.b64decode(msg)\n",
    "# plaintext = box.decrypt(decodedmsg)\n",
    "\n",
    "print (r.status_code, r.text)\n",
    "print(pubkey)\n",
    "\n",
    "#---------------------------------------------\n",
    "\n",
    "decodedmsg = base64.b64decode(pubkey)\n",
    "\n",
    "hasher = nacl.hash.blake2b\n",
    "hashed = hasher(decodedmsg, encoder=nacl.encoding.HexEncoder)\n",
    "\n",
    "print ('hash of goosers public string', hashed)\n"
   ]
  },
  {
   "cell_type": "markdown",
   "metadata": {},
   "source": [
    "# q5p2"
   ]
  },
  {
   "cell_type": "code",
   "execution_count": 44,
   "metadata": {},
   "outputs": [
    {
     "name": "stdout",
     "output_type": "stream",
     "text": [
      "<class 'nacl.public.PublicKey'>\n",
      "pubkey swcoIFU2xIYc66ChqcTkOvv+im3XPpqb3j+aulWscCw=\n",
      "200\n",
      "b'ca48e2d7b7841b59a75730ec97e77f808d7a5ea73b6d39f6409f18841170290f'\n"
     ]
    }
   ],
   "source": [
    "#get goosers pub key\n",
    "\n",
    "#i am bob\n",
    "# Generate Bob's private key, which must be kept secret\n",
    "skbob = PrivateKey.generate()\n",
    "\n",
    "# Bob's public key can be given to anyone wishing to send\n",
    "#   Bob an encrypted message\n",
    "pkbob = skbob.public_key\n",
    "\n",
    "\n",
    "\n",
    "url =  \"https://hash-browns.cs.uwaterloo.ca/api/pke/set-key\"\n",
    "\n",
    "myheaders = {\n",
    "    'Accept': 'application/json',\n",
    "    'Content-Type': 'application/json'\n",
    "}\n",
    "\n",
    "\n",
    "# byte_key = bytes.fromhex(givenkey)\n",
    "\n",
    "# box = nacl.secret.SecretBox(byte_key)\n",
    "# encoded = base64.b64encode(box.encrypt(mymsg))\n",
    "\n",
    "print (type(pkbob))\n",
    "pkbob = pkbob.encode(Base64Encoder)\n",
    "pkbob = pkbob.decode()\n",
    "print ('pubkey', pkbob)\n",
    "\n",
    "\n",
    "myobj = {\"api_token\": \"cb0fc431d5b7e268e4a81538dd653b83ad0702876a367b628ba6ec7ceb6800d0\",\n",
    "         \"pubkey\": pkbob\n",
    "         }\n",
    "\n",
    "\n",
    "r = requests.post(url, json = myobj, headers=myheaders)\n",
    "r.status_code\n",
    "print (r.status_code)\n"
   ]
  },
  {
   "cell_type": "code",
   "execution_count": 67,
   "metadata": {},
   "outputs": [
    {
     "name": "stdout",
     "output_type": "stream",
     "text": [
      "b'ca48e2d7b7841b59a75730ec97e77f808d7a5ea73b6d39f6409f18841170290f'\n",
      "<class 'nacl.public.PrivateKey'> <class 'bytes'>\n",
      "encrypted: Z+1/gH0ZGRPXQWYBTODSjLx+CAam5H9VgIkPr/n2RG39tG1mhrePacU1X+0FViyy9vl2PIPVWqAlC75A5MA=\n",
      "200\n"
     ]
    }
   ],
   "source": [
    "#sending my encrypted message\n",
    "\n",
    "#im now bob\n",
    "print (hashed)\n",
    "print (type(skbob), type(decodedmsg))\n",
    "bob_box = Box(skbob, nacl.public.PublicKey(decodedmsg))\n",
    "\n",
    "message = b'wassup gooser it works'\n",
    "encrypted = bob_box.encrypt(message)\n",
    "encrypted = base64.b64encode(encrypted)\n",
    "encrypted = encrypted.decode()\n",
    "print ('encrypted:', encrypted)\n",
    "\n",
    "url3 =  \"https://hash-browns.cs.uwaterloo.ca/api/pke/send\"\n",
    "\n",
    "myobj3 = {\"api_token\": \"cb0fc431d5b7e268e4a81538dd653b83ad0702876a367b628ba6ec7ceb6800d0\",\n",
    "        \"recipient\": \"Gooser\",\n",
    "        \"msg\": encrypted\n",
    "         }\n",
    "\n",
    "r = requests.post(url3, json = myobj3, headers=myheaders)\n",
    "r.status_code\n",
    "print (r.status_code)"
   ]
  },
  {
   "cell_type": "markdown",
   "metadata": {},
   "source": [
    "# q5p3\n"
   ]
  },
  {
   "cell_type": "code",
   "execution_count": 71,
   "metadata": {},
   "outputs": [
    {
     "name": "stdout",
     "output_type": "stream",
     "text": [
      "200 [{\"msg_id\":1073741824,\"sender\":\"Gooser\",\"msg\":\"NObwjtSsv8vGNQVulslt3+hEmjJ5vGROQe9avwiG5grWU0oVZ4nAckVz34OBy8cKAsYDqIk0Hw==\"}]\n",
      "b'4\\xe6\\xf0\\x8e\\xd4\\xac\\xbf\\xcb\\xc65\\x05n\\x96\\xc9m\\xdf\\xe8D\\x9a2y\\xbcdNA\\xefZ\\xbf\\x08\\x86\\xe6\\n\\xd6SJ\\x15g\\x89\\xc0rEs\\xdf\\x83\\x81\\xcb\\xc7\\n\\x02\\xc6\\x03\\xa8\\x894\\x1f'\n",
      "retired journey\n"
     ]
    }
   ],
   "source": [
    "url4 =  \"https://hash-browns.cs.uwaterloo.ca/api/pke/inbox\"\n",
    "\n",
    "myobj4 = {\"api_token\": \"cb0fc431d5b7e268e4a81538dd653b83ad0702876a367b628ba6ec7ceb6800d0\",\n",
    "         }\n",
    "\n",
    "r = requests.post(url4, json = myobj4, headers=myheaders)\n",
    "r.status_code\n",
    "\n",
    "data = json.loads(r.text)\n",
    "msg = data[0]['msg']\n",
    "#print ('msg:', msg)\n",
    "decodedmsg = base64.b64decode(msg)\n",
    "\n",
    "print (r.status_code, r.text)\n",
    "print(decodedmsg)\n",
    "\n",
    "# using my original bob box\n",
    "# Decrypt our message, an exception will be raised if the encryption was\n",
    "#   tampered with or there was otherwise an error.\n",
    "plaintext = bob_box.decrypt(decodedmsg)\n",
    "print(plaintext.decode('utf-8'))\n"
   ]
  }
 ],
 "metadata": {
  "kernelspec": {
   "display_name": "Python 3",
   "language": "python",
   "name": "python3"
  },
  "language_info": {
   "codemirror_mode": {
    "name": "ipython",
    "version": 3
   },
   "file_extension": ".py",
   "mimetype": "text/x-python",
   "name": "python",
   "nbconvert_exporter": "python",
   "pygments_lexer": "ipython3",
   "version": "3.11.6"
  }
 },
 "nbformat": 4,
 "nbformat_minor": 2
}
