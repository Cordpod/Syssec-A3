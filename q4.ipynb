{
 "cells": [
  {
   "cell_type": "code",
   "execution_count": 10,
   "metadata": {},
   "outputs": [],
   "source": [
    "import requests\n",
    "import base64\n",
    "import json\n",
    "import nacl.secret\n",
    "import nacl.utils\n",
    "import nacl.pwhash\n",
    "from nacl.signing import SigningKey\n",
    "from nacl.encoding import Base64Encoder\n"
   ]
  },
  {
   "cell_type": "markdown",
   "metadata": {},
   "source": [
    "# q4p1"
   ]
  },
  {
   "cell_type": "code",
   "execution_count": 15,
   "metadata": {},
   "outputs": [
    {
     "name": "stdout",
     "output_type": "stream",
     "text": [
      "<class 'nacl.signing.SigningKey'>\n",
      "b'\\xb0E\\xa8\\x86\\xa2j\\xf9\\xfdk\"\\x1e\\xc3%\\xb8\\xaa\\xce\\xfdI\\x95!N$7\\x1b\\xf0\\xb3\\xbe\\xf6\\x00\\x8e\\xfc\\x89'\n",
      "b'sEWohqJq+f1rIh7DJbiqzv1JlSFOJDcb8LO+9gCO/Ik='\n",
      "sEWohqJq+f1rIh7DJbiqzv1JlSFOJDcb8LO+9gCO/Ik=\n",
      "200\n"
     ]
    }
   ],
   "source": [
    "# Generate a new random signing key\n",
    "signing_key = SigningKey.generate()\n",
    "\n",
    "# Obtain the verify key for a given signing key\n",
    "verify_key = signing_key.verify_key\n",
    "\n",
    "# Serialize the verify key to send it to a third party\n",
    "verify_key_bytes = verify_key.encode()\n",
    "verify_key_bytes = base64.b64encode(verify_key_bytes)\n",
    "\n",
    "print (verify_key)\n",
    "print (verify_key_bytes)\n",
    "\n",
    "\n",
    "\n",
    "\n",
    "url =  \"https://hash-browns.cs.uwaterloo.ca/api/signed/set-key\"\n",
    "\n",
    "myheaders = {\n",
    "    'Accept': 'application/json',\n",
    "    'Content-Type': 'application/json'\n",
    "}\n",
    "\n",
    "\n",
    "# byte_key = bytes.fromhex(givenkey)\n",
    "\n",
    "# box = nacl.secret.SecretBox(byte_key)\n",
    "# encoded = base64.b64encode(box.encrypt(mymsg))\n",
    "\n",
    "# print (encoded)\n",
    "pubkey = verify_key_bytes.decode()\n",
    "print (pubkey)\n",
    "\n",
    "\n",
    "myobj = {\"api_token\": \"cb0fc431d5b7e268e4a81538dd653b83ad0702876a367b628ba6ec7ceb6800d0\",\n",
    "         \"pubkey\": pubkey\n",
    "         }\n",
    "\n",
    "\n",
    "r = requests.post(url, json = myobj, headers=myheaders)\n",
    "r.status_code\n",
    "print (r.status_code)\n",
    "\n"
   ]
  },
  {
   "cell_type": "markdown",
   "metadata": {},
   "source": [
    "# q4p2"
   ]
  },
  {
   "cell_type": "code",
   "execution_count": 12,
   "metadata": {},
   "outputs": [
    {
     "name": "stdout",
     "output_type": "stream",
     "text": [
      "b'm04wmlWuJmtPczN8PaVn8Yu7QxgHjA/rRiHmfcXp0jBSRWC62KVoSJJoWlWgo8K3Sk4/kjyWWxkGhsf8eGkbDUdvb3NlciBpdmUgc2lnbmVkIHRoZSBtZXNzYWdl'\n",
      "m04wmlWuJmtPczN8PaVn8Yu7QxgHjA/rRiHmfcXp0jBSRWC62KVoSJJoWlWgo8K3Sk4/kjyWWxkGhsf8eGkbDUdvb3NlciBpdmUgc2lnbmVkIHRoZSBtZXNzYWdl\n",
      "200\n"
     ]
    }
   ],
   "source": [
    "url =  \"https://hash-browns.cs.uwaterloo.ca/api/signed/send\"\n",
    "\n",
    "myheaders = {\n",
    "    'Accept': 'application/json',\n",
    "    'Content-Type': 'application/json'\n",
    "}\n",
    "\n",
    "mymsg = b'Gooser ive signed the message'\n",
    "\n",
    "# Sign a message with the signing key\n",
    "signed = signing_key.sign(mymsg, encoder=Base64Encoder)\n",
    "\n",
    "\n",
    "# givenkey = '9f1c1e61ab413f1f1dfeaacc5dc7fe579d22ad00ed9cdb08d73790bf08d92db9'\n",
    "# byte_key = bytes.fromhex(givenkey)\n",
    "\n",
    "# box = nacl.secret.SecretBox(byte_key)\n",
    "# encoded = base64.b64encode(box.encrypt(mymsg))\n",
    "\n",
    "print (signed)\n",
    "signed = signed.decode()\n",
    "print (signed)\n",
    "\n",
    "\n",
    "\n",
    "myobj = {\"api_token\": \"cb0fc431d5b7e268e4a81538dd653b83ad0702876a367b628ba6ec7ceb6800d0\",\n",
    "         \"recipient\": \"Gooser\", \n",
    "         \"msg\": signed\n",
    "         }\n",
    "\n",
    "\n",
    "r = requests.post(url, json = myobj, headers=myheaders)\n",
    "r.status_code\n",
    "print (r.status_code)"
   ]
  }
 ],
 "metadata": {
  "kernelspec": {
   "display_name": "Python 3",
   "language": "python",
   "name": "python3"
  },
  "language_info": {
   "codemirror_mode": {
    "name": "ipython",
    "version": 3
   },
   "file_extension": ".py",
   "mimetype": "text/x-python",
   "name": "python",
   "nbconvert_exporter": "python",
   "pygments_lexer": "ipython3",
   "version": "3.11.6"
  }
 },
 "nbformat": 4,
 "nbformat_minor": 2
}
