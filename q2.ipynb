{
 "cells": [
  {
   "cell_type": "code",
   "execution_count": 3,
   "metadata": {},
   "outputs": [],
   "source": [
    "import requests\n",
    "import base64\n",
    "import json\n",
    "import nacl.secret\n",
    "import nacl.utils"
   ]
  },
  {
   "cell_type": "markdown",
   "metadata": {},
   "source": [
    "# q2p1"
   ]
  },
  {
   "cell_type": "code",
   "execution_count": 42,
   "metadata": {},
   "outputs": [
    {
     "name": "stdout",
     "output_type": "stream",
     "text": [
      "b'ZAn6eWBG3Ii3XjlX2eNdWGJN3OJcEpT5SQ8uJRIN9lH1mzaOOlRb5qc3ShOAAdjbAFbEG0FY9W2Q0A=='\n",
      "ZAn6eWBG3Ii3XjlX2eNdWGJN3OJcEpT5SQ8uJRIN9lH1mzaOOlRb5qc3ShOAAdjbAFbEG0FY9W2Q0A==\n",
      "200\n"
     ]
    }
   ],
   "source": [
    "url =  \"https://hash-browns.cs.uwaterloo.ca/api/psk/send\"\n",
    "\n",
    "myheaders = {\n",
    "    'Accept': 'application/json',\n",
    "    'Content-Type': 'application/json'\n",
    "}\n",
    "\n",
    "# plaintext = 'Hello Gooser Again'\n",
    "# mymsg = plaintext.encode()\n",
    "mymsg = b'Hello Gooser Again'\n",
    "givenkey = '9f1c1e61ab413f1f1dfeaacc5dc7fe579d22ad00ed9cdb08d73790bf08d92db9'\n",
    "byte_key = bytes.fromhex(givenkey)\n",
    "\n",
    "box = nacl.secret.SecretBox(byte_key)\n",
    "encoded = base64.b64encode(box.encrypt(mymsg))\n",
    "\n",
    "# print (encoded)\n",
    "encoded = encoded.decode()\n",
    "# print (encoded)\n",
    "\n",
    "\n",
    "\n",
    "myobj = {\"api_token\": \"cb0fc431d5b7e268e4a81538dd653b83ad0702876a367b628ba6ec7ceb6800d0\",\n",
    "         \"recipient\": \"Gooser\", \n",
    "         \"msg\": encoded\n",
    "         }\n",
    "\n",
    "\n",
    "r = requests.post(url, json = myobj, headers=myheaders)\n",
    "r.status_code\n",
    "print (r.status_code)"
   ]
  },
  {
   "cell_type": "markdown",
   "metadata": {},
   "source": [
    "# q2p2"
   ]
  },
  {
   "cell_type": "code",
   "execution_count": 36,
   "metadata": {},
   "outputs": [
    {
     "name": "stdout",
     "output_type": "stream",
     "text": [
      "200 [{\"msg_id\":44282691,\"sender\":\"Gooser\",\"msg\":\"EjmTU9TLax2OvwHrLfxtd0bcDbmM+IFnCw0S2dObzUpI51GScobRlyhb38FPgit+nTZAFAv5TrZ4\"}]\n",
      "b'judicial argument'\n"
     ]
    }
   ],
   "source": [
    "url2 =  \"https://hash-browns.cs.uwaterloo.ca/api/psk/inbox\"\n",
    "\n",
    "myobj2 = {\"api_token\": \"cb0fc431d5b7e268e4a81538dd653b83ad0702876a367b628ba6ec7ceb6800d0\",\n",
    "         }\n",
    "\n",
    "r = requests.post(url2, json = myobj2, headers=myheaders)\n",
    "r.status_code\n",
    "\n",
    "data = json.loads(r.text)\n",
    "msg = data[0]['msg']\n",
    "decodedmsg = base64.b64decode(msg)\n",
    "plaintext = box.decrypt(decodedmsg)\n",
    "\n",
    "\n",
    "print (r.status_code, r.text)\n",
    "print(plaintext)"
   ]
  },
  {
   "cell_type": "code",
   "execution_count": 43,
   "metadata": {},
   "outputs": [
    {
     "name": "stdout",
     "output_type": "stream",
     "text": [
      "b'Hello Gooser Again'\n"
     ]
    }
   ],
   "source": [
    "# x ='ZAn6eWBG3Ii3XjlX2eNdWGJN3OJcEpT5SQ8uJRIN9lH1mzaOOlRb5qc3ShOAAdjbAFbEG0FY9W2Q0A=='\n",
    "# decoded = base64.b64decode(x)\n",
    "# plai = box.decrypt(decoded)\n",
    "# print (plai)"
   ]
  }
 ],
 "metadata": {
  "kernelspec": {
   "display_name": "Python 3",
   "language": "python",
   "name": "python3"
  },
  "language_info": {
   "codemirror_mode": {
    "name": "ipython",
    "version": 3
   },
   "file_extension": ".py",
   "mimetype": "text/x-python",
   "name": "python",
   "nbconvert_exporter": "python",
   "pygments_lexer": "ipython3",
   "version": "3.11.6"
  }
 },
 "nbformat": 4,
 "nbformat_minor": 2
}
